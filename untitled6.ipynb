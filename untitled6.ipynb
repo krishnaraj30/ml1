{
  "nbformat": 4,
  "nbformat_minor": 0,
  "metadata": {
    "colab": {
      "provenance": [],
      "authorship_tag": "ABX9TyMzMDv3IHtszk5qzvXHKJpP",
      "include_colab_link": true
    },
    "kernelspec": {
      "name": "python3",
      "display_name": "Python 3"
    },
    "language_info": {
      "name": "python"
    }
  },
  "cells": [
    {
      "cell_type": "markdown",
      "metadata": {
        "id": "view-in-github",
        "colab_type": "text"
      },
      "source": [
        "<a href=\"https://colab.research.google.com/github/krishnaraj30/ml1/blob/main/untitled6.ipynb\" target=\"_parent\"><img src=\"https://colab.research.google.com/assets/colab-badge.svg\" alt=\"Open In Colab\"/></a>"
      ]
    },
    {
      "cell_type": "code",
      "source": [
        "import pandas as pd\n",
        "from sklearn.model_selection import train_test_split\n",
        "from sklearn.tree import DecisionTreeClassifier\n",
        "from sklearn.svm import SVC\n",
        "from sklearn.neural_network import MLPClassifier\n",
        "from sklearn.metrics import accuracy_score\n",
        "\n",
        "# Load the dataset\n",
        "data = pd.read_csv('grid_data')  # Replace 'grid_data.csv' with your dataset file\n",
        "\n",
        "# Split the dataset into features (X) and target variable (y)\n",
        "X = data.drop('Stability',axis=1)  # Assuming 'Stability' is the target column\n",
        "y = data['Stability']\n",
        "\n",
        "# Split the data into training and testing sets\n",
        "X_train, X_test, y_train, y_test = train_test_split(X, y, test_size=0.2, random_state=42)\n",
        "# Decision Tree Classifier\n",
        "dt_clf = DecisionTreeClassifier()\n",
        "dt_clf.fit(X_train, y_train)\n",
        "dt_y_pred = dt_clf.predict(X_test)\n",
        "dt_accuracy = accuracy_score(y_test, dt_y_pred)\n",
        "print(\"Decision Tree Classifier Accuracy:\", dt_accuracy)\n",
        "\n",
        "# Support Vector Machines (SVM)\n",
        "svm_clf = SVC()\n",
        "svm_clf.fit(X_train, y_train)\n",
        "svm_y_pred = svm_clf.predict(X_test)\n",
        "svm_accuracy = accuracy_score(y_test, svm_y_pred)\n",
        "print(\"SVM Accuracy:\", svm_accuracy)\n",
        "\n",
        "# Neural Network Classifier\n",
        "nn_clf = MLPClassifier(hidden_layer_sizes=(100, 50), max_iter=1000, random_state=42)  # Adjust parameters as needed\n",
        "nn_clf.fit(X_train, y_train)\n",
        "nn_y_pred = nn_clf.predict(X_test)\n",
        "nn_accuracy = accuracy_score(y_test, nn_y_pred)\n",
        "print(\"Neural Network Classifier Accuracy:\", nn_accuracy)"
      ],
      "metadata": {
        "id": "8v_akLa1M6ru"
      },
      "execution_count": null,
      "outputs": []
    },
    {
      "cell_type": "markdown",
      "source": [
        "# New Section"
      ],
      "metadata": {
        "id": "Mb3PbuWGuCw4"
      }
    },
    {
      "cell_type": "code",
      "source": [],
      "metadata": {
        "id": "g8kBChrVt3ry"
      },
      "execution_count": null,
      "outputs": []
    }
  ]
}